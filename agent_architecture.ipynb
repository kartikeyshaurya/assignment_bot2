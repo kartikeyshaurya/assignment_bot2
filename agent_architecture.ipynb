{
 "cells": [
  {
   "cell_type": "code",
   "execution_count": 46,
   "id": "7657000a",
   "metadata": {},
   "outputs": [],
   "source": [
    "import pandas as pd \n",
    "## making a request to the API\n",
    "import requests\n",
    "import json\n",
    "import os\n",
    "import time\n",
    "import datetime\n",
    "from helper import *"
   ]
  },
  {
   "cell_type": "code",
   "execution_count": 47,
   "id": "93307da3",
   "metadata": {},
   "outputs": [],
   "source": [
    "import requests\n",
    "import json"
   ]
  },
  {
   "cell_type": "code",
   "execution_count": 45,
   "id": "c932691a",
   "metadata": {
    "vscode": {
     "languageId": "markdown"
    }
   },
   "outputs": [
    {
     "ename": "SyntaxError",
     "evalue": "invalid character '•' (U+2022) (4208055896.py, line 12)",
     "output_type": "error",
     "traceback": [
      "\u001b[0;36m  Cell \u001b[0;32mIn[45], line 12\u001b[0;36m\u001b[0m\n\u001b[0;31m    • `retriever2`: Searches an Elasticsearch index for documents matching symptom embeddings using cosine similarity.\u001b[0m\n\u001b[0m    ^\u001b[0m\n\u001b[0;31mSyntaxError\u001b[0m\u001b[0;31m:\u001b[0m invalid character '•' (U+2022)\n"
     ]
    }
   ],
   "source": [
    "# Notebook Documentation\n",
    "\n",
    "This notebook demonstrates an architecture for retrieving and processing disease-related information based on user input of symptoms. It integrates search, language models, and stateful graph-based control flows. Below is a brief overview of how it works.\n",
    "\n",
    "## Overview\n",
    "\n",
    "- **Data & API Setup**:  \n",
    "    The notebook utilizes libraries such as requests, langchain, langgraph, and elasticsearch. Helper modules load models and generate embeddings for symptom queries.\n",
    "\n",
    "- **Tool Definitions**:  \n",
    "    Two primary tools are defined:  \n",
    "    • `retriever2`: Searches an Elasticsearch index for documents matching symptom embeddings using cosine similarity.  \n",
    "    • `retriever3`: Calls an external API to predict the disease given a list of symptoms.  \n",
    "\n",
    "- **Document Grading**:  \n",
    "    The `grade_documents` function uses an LLM (via `OllamaFunctions`) to score the relevance of retrieved documents using a binary (yes/no) check.\n",
    "\n",
    "- **State Graph & Agent Architecture**:  \n",
    "    A state graph is built using langgraph tools to control the conversation flow. An assistant node, connected with tool nodes (and fallback mechanisms), uses a prepared prompt and an LLM (`ChatOllama`) to process user queries. The system iteratively invokes tools until a relevant answer is produced.\n",
    "\n",
    "- **Execution Flow**:  \n",
    "    Upon receiving input (e.g., “I have a cough”), the assistant starts the process by invoking the first tool. If insufficient, it falls back to the second tool. Each response is graded for relevance before final output, ensuring meaningful and accurate responses.\n",
    "\n",
    "This architecture showcases the blend of traditional search mechanisms with modern LLM reasoning in an interactive, stateful notebook environment."
   ]
  },
  {
   "cell_type": "markdown",
   "id": "bce67b93",
   "metadata": {},
   "source": [
    "## Real Architecture"
   ]
  },
  {
   "cell_type": "code",
   "execution_count": 48,
   "id": "856002cb",
   "metadata": {},
   "outputs": [],
   "source": [
    "from typing import Annotated\n",
    "\n",
    "from langchain_community.tools.tavily_search import TavilySearchResults\n",
    "from langchain_core.tools import tool\n",
    "from langchain_experimental.utilities import PythonREPL\n",
    "from langgraph.graph import MessagesState\n",
    "\n",
    "from typing import Literal\n",
    "from typing_extensions import TypedDict\n",
    "\n",
    "\n",
    "from langchain_core.messages import HumanMessage\n",
    "from langgraph.graph import StateGraph, START, END\n",
    "from langgraph.prebuilt import create_react_agent\n",
    "\n",
    "from pydantic import BaseModel, Field\n",
    "from langchain.chat_models import ChatOpenAI\n",
    "from langchain.prompts import ChatPromptTemplate, MessagesPlaceholder\n",
    "\n",
    "from langgraph.prebuilt import ToolNode\n",
    "\n",
    "from langchain_core.prompts.prompt import PromptTemplate\n",
    "from langchain_core.output_parsers import StrOutputParser\n",
    "from langchain.schema import HumanMessage, AIMessage"
   ]
  },
  {
   "cell_type": "code",
   "execution_count": 49,
   "id": "4dc0e50d",
   "metadata": {},
   "outputs": [],
   "source": [
    "from typing import Annotated, Sequence, TypedDict\n",
    "from langchain_core.messages import BaseMessage\n",
    "from langgraph.graph.message import add_messages\n",
    "from langchain.tools.retriever import create_retriever_tool\n",
    "from typing import Annotated, Literal, Sequence, TypedDict\n",
    "from langchain import hub\n",
    "from langchain_core.messages import BaseMessage, HumanMessage\n",
    "from langchain_core.output_parsers import StrOutputParser\n",
    "from langchain_core.prompts import PromptTemplate\n",
    "from langchain_core.pydantic_v1 import BaseModel, Field\n",
    "from langgraph.prebuilt import tools_condition\n",
    "from langchain_core.prompts import ChatPromptTemplate\n",
    "from langchain_ollama.llms import OllamaLLM\n",
    "from pydantic import BaseModel, Field   \n"
   ]
  },
  {
   "cell_type": "code",
   "execution_count": 50,
   "id": "29708650",
   "metadata": {},
   "outputs": [],
   "source": [
    "from langchain_experimental.llms.ollama_functions import OllamaFunctions\n",
    "from langchain_core.tools import tool\n"
   ]
  },
  {
   "cell_type": "code",
   "execution_count": 51,
   "id": "ce2e8e17",
   "metadata": {},
   "outputs": [],
   "source": [
    "def grade_documents(query,docs) -> Literal[\"generate\", \"rewrite\"]:\n",
    "    \"\"\"\n",
    "    Determines whether the retrieved documents are relevant to the question.\n",
    "\n",
    "    Args:\n",
    "        query: user question\n",
    "        docs: retrieved documents\n",
    "\n",
    "    Returns:\n",
    "        str: A decision for whether the documents are relevant or not\n",
    "    \"\"\"\n",
    "    print(\"---GRADE DOCUMENTS---\")\n",
    "    print(\"---CHECK RELEVANCE---\")\n",
    "\n",
    "    # Data model\n",
    "    class grade(BaseModel):\n",
    "        \"\"\"Binary score for relevance check.\"\"\"\n",
    "\n",
    "        binary_score: bool = Field(description=\"Relevance score 'True' or 'False'\")\n",
    "    # LLM\n",
    "    model = OllamaFunctions(model=\"llama3:latest\")\n",
    "\n",
    "\n",
    "    # LLM with tool and validation\n",
    "    llm_with_tool = model.with_structured_output(grade)\n",
    "\n",
    "    # Prompt\n",
    "    prompt = PromptTemplate(\n",
    "        template=\"\"\"You are a grader assessing relevance of a retrieved document to a user question. \\n \n",
    "        Here is the retrieved document: \\n\\n {context} \\n\\n\n",
    "        Here is the user question: {question} \\n\n",
    "        If the document contains keyword(s) or semantic meaning related to the user question, grade it as relevant. \\n\n",
    "        Give a binary score 'yes' or 'no' score to indicate whether the document is relevant to the question.\"\"\",\n",
    "        input_variables=[\"context\", \"question\"],\n",
    "    )\n",
    "\n",
    "    # Chain\n",
    "    chain = prompt | llm_with_tool\n",
    "\n",
    "    scored_result = chain.invoke({\"question\": query, \"context\": docs})\n",
    "\n",
    "    return scored_result\n",
    "    \n",
    "\n",
    "\n",
    "@tool\n",
    "def retriever2(query):\n",
    "    \"\"\"\n",
    "    Function to search for symptoms in Elasticsearch and return the most similar ones.\n",
    "    Args:\n",
    "        query (str): The user query containing symptoms.\n",
    "\n",
    "    Returns:\n",
    "        results (list): A list of dictionaries containing the disease, symptoms, and score.\n",
    "    \"\"\"\n",
    "\n",
    "    print(\"---RETRIEVER 2---\")\n",
    "    top_k=1\n",
    "    model, tokenizer = load_model()\n",
    "    \n",
    "    # Generate the embedding for the user query\n",
    "    query_embedding = generate_embeddings([query], model, tokenizer)[0]\n",
    "\n",
    "    # Search for the most similar symptoms in Elasticsearch\n",
    "    script_query = {\n",
    "        \"script_score\": {\n",
    "            \"query\": {\n",
    "                \"match_all\": {}  # Match all documents\n",
    "            },\n",
    "            \"script\": {\n",
    "                \"source\": \"cosineSimilarity(params.query_vector, 'embedding') + 1.0\",\n",
    "                \"params\": {\n",
    "                    \"query_vector\": query_embedding.tolist()\n",
    "                }\n",
    "            }\n",
    "        }\n",
    "    }\n",
    "    # Function to search for symptoms based on user input\n",
    "\n",
    "    \n",
    "    # Perform the search and get the top-k results\n",
    "    response = es.search(index=index_name, body={\n",
    "        \"size\": top_k,\n",
    "        \"query\": script_query\n",
    "    })\n",
    "\n",
    "    # Parse the response\n",
    "    results = []\n",
    "    for hit in response['hits']['hits']:\n",
    "        score = hit['_score']\n",
    "        disease = hit['_source']['disease']\n",
    "        symptoms = hit['_source']['symptoms']\n",
    "        results.append({\"disease\": disease, \"symptoms\": symptoms, \"score\": score})\n",
    "\n",
    "    results =results[0][\"disease\"]\n",
    "\n",
    "    \n",
    "\n",
    "    final_result = grade_documents(query, results)\n",
    "    jso =  {\"disease\": results,\"is_relavant\": final_result.binary_score}\n",
    "    \n",
    "    return jso\n",
    "\n",
    "@tool\n",
    "def retriever3(query):\n",
    "    \"\"\"\n",
    "    Function to get disease prediction from the API by providing symptoms.\n",
    "\n",
    "    Args:\n",
    "        query (str): A string of comma-separated symptoms, e.g., \"fever,cough,headache\".\n",
    "\n",
    "    Returns:\n",
    "        str: The predicted disease or an error message if the API call fails.\n",
    "    \"\"\"\n",
    "    print(\"---RETRIEVER 3---\")\n",
    "\n",
    "    url = 'https://proud-violet-c7b2.kartikeyshaurya.workers.dev'\n",
    "    \n",
    "    payload = {\n",
    "    'data': query,\n",
    "    }\n",
    "    headers = {\n",
    "        'Content-Type': 'application/json'  # Set the content type to JSON\n",
    "    }\n",
    "\n",
    "    # Make the POST request\n",
    "    response = requests.post(url, headers=headers, data=json.dumps(payload))\n",
    "    print(response)\n",
    "    if response.status_code == 200:\n",
    "        # Parse the response JSON\n",
    "        a = response.json()\n",
    "        print(a)\n",
    "        output = a[0][\"response\"][\"response\"]\n",
    "\n",
    "        grade_value = grade_documents(query, output)\n",
    "\n",
    "        result = {\"disease\": output, \"is_relavant\": grade_value.binary_score}\n",
    "        return result\n",
    "    else:\n",
    "        return f'Failed to get response. Status code: {response.status_code}'\n",
    "\n",
    "\n"
   ]
  },
  {
   "cell_type": "code",
   "execution_count": 55,
   "id": "8143a270",
   "metadata": {},
   "outputs": [
    {
     "name": "stdout",
     "output_type": "stream",
     "text": [
      "---RETRIEVER 2---\n",
      "---GRADE DOCUMENTS---\n",
      "---CHECK RELEVANCE---\n"
     ]
    },
    {
     "data": {
      "text/plain": [
       "{'disease': 'Chicken pox', 'is_relavant': False}"
      ]
     },
     "execution_count": 55,
     "metadata": {},
     "output_type": "execute_result"
    }
   ],
   "source": [
    "retriever2.invoke(\"what is the capital of France\")"
   ]
  },
  {
   "cell_type": "code",
   "execution_count": 56,
   "id": "b0f8e90e",
   "metadata": {},
   "outputs": [
    {
     "name": "stdout",
     "output_type": "stream",
     "text": [
      "---RETRIEVER 3---\n",
      "<Response [200]>\n",
      "[{'inputs': {'messages': [{'role': 'system', 'content': 'You are a medical assistant trained to diagnose diseases based on provided symptoms. \\n          Your task is to predict the most likely disease given a list of symptoms  and some additional information about disease. \\n         \\n          Input:\\n          - Symptoms/additional information:  what is the capital of France\\n          \\n          Output:\\n          - Predicted Disease: [Name of disease]'}]}, 'response': {'response': 'I\\'m happy to help! However, I must point out that the input \"what is the capital of France\" is not related to symptoms or medical information, and therefore, I cannot diagnose a disease based on this input.\\n\\nAs a medical assistant, I require specific symptoms and medical information to make an accurate diagnosis. If you could provide me with a list of symptoms and additional relevant medical information, I would be happy to help you predict the most likely disease.\\n\\nPlease provide me with the necessary information, and I\\'ll do my best to assist you.', 'usage': {'prompt_tokens': 83, 'completion_tokens': 111, 'total_tokens': 194}}}]\n",
      "---GRADE DOCUMENTS---\n",
      "---CHECK RELEVANCE---\n"
     ]
    },
    {
     "data": {
      "text/plain": [
       "{'disease': 'I\\'m happy to help! However, I must point out that the input \"what is the capital of France\" is not related to symptoms or medical information, and therefore, I cannot diagnose a disease based on this input.\\n\\nAs a medical assistant, I require specific symptoms and medical information to make an accurate diagnosis. If you could provide me with a list of symptoms and additional relevant medical information, I would be happy to help you predict the most likely disease.\\n\\nPlease provide me with the necessary information, and I\\'ll do my best to assist you.',\n",
       " 'is_relavant': True}"
      ]
     },
     "execution_count": 56,
     "metadata": {},
     "output_type": "execute_result"
    }
   ],
   "source": [
    "retriever3.invoke(\"what is the capital of France\")"
   ]
  },
  {
   "cell_type": "markdown",
   "id": "6983b4e2",
   "metadata": {},
   "source": [
    "##  architecture 1 "
   ]
  },
  {
   "cell_type": "code",
   "execution_count": 57,
   "id": "2f5cf42f",
   "metadata": {},
   "outputs": [],
   "source": [
    "from typing import Annotated\n",
    "\n",
    "from typing_extensions import TypedDict\n",
    "\n",
    "from langgraph.graph.message import AnyMessage, add_messages\n",
    "\n",
    "\n",
    "class State(TypedDict):\n",
    "    messages: Annotated[list[AnyMessage], add_messages]"
   ]
  },
  {
   "cell_type": "code",
   "execution_count": 58,
   "id": "a56da7ef",
   "metadata": {},
   "outputs": [],
   "source": [
    "from langchain_community.tools.tavily_search import TavilySearchResults\n",
    "from langchain_core.prompts import ChatPromptTemplate\n",
    "from langchain_core.runnables import Runnable, RunnableConfig\n",
    "\n",
    "\n",
    "class Assistant:\n",
    "    def __init__(self, runnable: Runnable):\n",
    "        self.runnable = runnable\n",
    "\n",
    "    def __call__(self, state: State, config: RunnableConfig):\n",
    "        while True:\n",
    "            result = self.runnable.invoke(state)\n",
    "            # If the LLM happens to return an empty response, we will re-prompt it\n",
    "            # for an actual response.\n",
    "            if not result.tool_calls and (\n",
    "                not result.content\n",
    "                or isinstance(result.content, list)\n",
    "                and not result.content[0].get(\"text\")\n",
    "            ):\n",
    "                messages = state[\"messages\"] + [(\"user\", \"Respond with a real output.\")]\n",
    "                state = {**state, \"messages\": messages}\n",
    "            else:\n",
    "                break\n",
    "        return {\"messages\": result}\n",
    "\n"
   ]
  },
  {
   "cell_type": "code",
   "execution_count": 59,
   "id": "ea26e75e",
   "metadata": {},
   "outputs": [],
   "source": [
    "from langchain_core.messages import ToolMessage\n",
    "from langchain_core.runnables import RunnableLambda\n",
    "\n",
    "from langgraph.prebuilt import ToolNode\n",
    "\n",
    "\n",
    "def handle_tool_error(state) -> dict:\n",
    "    error = state.get(\"error\")\n",
    "    tool_calls = state[\"messages\"][-1].tool_calls\n",
    "    return {\n",
    "        \"messages\": [\n",
    "            ToolMessage(\n",
    "                content=f\"Error: {repr(error)}\\n please fix your mistakes.\",\n",
    "                tool_call_id=tc[\"id\"],\n",
    "            )\n",
    "            for tc in tool_calls\n",
    "        ]\n",
    "    }\n",
    "\n",
    "def create_tool_node_with_fallback(tools: list) -> dict:\n",
    "    return ToolNode(tools).with_fallbacks(\n",
    "        [RunnableLambda(handle_tool_error)], exception_key=\"error\"\n",
    "    )"
   ]
  },
  {
   "cell_type": "code",
   "execution_count": 60,
   "id": "6bf30173",
   "metadata": {},
   "outputs": [],
   "source": [
    "\n",
    "primary_assistant_prompt = ChatPromptTemplate.from_messages(\n",
    "    [\n",
    "        (\n",
    "            \"system\",\n",
    "            \"You are a helpful assistant who helps the user to answer the question related to query. \"\n",
    "            \" Use the provided tools to search for relavent input from the user. \"\n",
    "            \"start with the first tool and if it fails to find the relavent answer, use the second tool. \"\n",
    "            \" if retriver2 fails to find the relavent answer, use retriever3 to search for the relavent input. \"\n",
    "        ),\n",
    "        (\"placeholder\", \"{messages}\"),\n",
    "        \n",
    "    ])"
   ]
  },
  {
   "cell_type": "code",
   "execution_count": 61,
   "id": "f1410789",
   "metadata": {},
   "outputs": [],
   "source": [
    "from langchain_ollama import ChatOllama\n",
    "\n",
    "llm = ChatOllama(model=\"llama3.2:3b\")\n",
    "llm_with_tool = [retriever2, retriever3]\n"
   ]
  },
  {
   "cell_type": "code",
   "execution_count": 62,
   "id": "3dc15c17",
   "metadata": {},
   "outputs": [],
   "source": [
    "part_1_assistant_runnable = primary_assistant_prompt | llm.bind_tools(llm_with_tool)\n"
   ]
  },
  {
   "cell_type": "code",
   "execution_count": 63,
   "id": "ac10397f",
   "metadata": {},
   "outputs": [],
   "source": [
    "from langgraph.checkpoint.memory import MemorySaver\n",
    "from langgraph.graph import END, StateGraph, START\n",
    "from langgraph.prebuilt import tools_condition\n",
    "\n",
    "builder = StateGraph(State)\n",
    "\n",
    "\n",
    "# Define nodes: these do the work\n",
    "builder.add_node(\"assistant\", Assistant(part_1_assistant_runnable))\n",
    "builder.add_node(\"tools\", create_tool_node_with_fallback(llm_with_tool))\n",
    "# Define edges: these determine how the control flow moves\n",
    "builder.add_edge(START, \"assistant\")\n",
    "builder.add_conditional_edges(\n",
    "    \"assistant\",\n",
    "    tools_condition,\n",
    ")\n",
    "builder.add_edge(\"tools\", \"assistant\")\n",
    "\n",
    "# The checkpointer lets the graph persist its state\n",
    "# this is a complete memory for the entire graph.\n",
    "memory = MemorySaver()\n",
    "part_1_graph = builder.compile(checkpointer=memory)"
   ]
  },
  {
   "cell_type": "code",
   "execution_count": 64,
   "id": "4bc58204",
   "metadata": {},
   "outputs": [],
   "source": [
    "def _print_event(event: dict, _printed: set, max_length=1500):\n",
    "    current_state = event.get(\"dialog_state\")\n",
    "    if current_state:\n",
    "        print(\"Currently in: \", current_state[-1])\n",
    "    message = event.get(\"messages\")\n",
    "    if message:\n",
    "        if isinstance(message, list):\n",
    "            message = message[-1]\n",
    "        if message.id not in _printed:\n",
    "            msg_repr = message.pretty_repr(html=True)\n",
    "            if len(msg_repr) > max_length:\n",
    "                msg_repr = msg_repr[:max_length] + \" ... (truncated)\"\n",
    "            print(msg_repr)\n",
    "            _printed.add(message.id)"
   ]
  },
  {
   "cell_type": "code",
   "execution_count": 65,
   "id": "0de40f37",
   "metadata": {},
   "outputs": [
    {
     "data": {
      "image/png": "[encoded data removed]",
      "text/plain": [
       "<IPython.core.display.Image object>"
      ]
     },
     "metadata": {},
     "output_type": "display_data"
    }
   ],
   "source": [
    "from IPython.display import Image, display\n",
    "\n",
    "try:\n",
    "    display(Image(part_1_graph.get_graph(xray=True).draw_mermaid_png()))\n",
    "except Exception:\n",
    "    # This requires some extra dependencies and is optional\n",
    "    pass"
   ]
  },
  {
   "cell_type": "code",
   "execution_count": 66,
   "id": "887c4884",
   "metadata": {},
   "outputs": [],
   "source": [
    "import uuid\n",
    "thread_id = str(uuid.uuid4())"
   ]
  },
  {
   "cell_type": "code",
   "execution_count": 67,
   "id": "4c3f2902",
   "metadata": {},
   "outputs": [],
   "source": [
    "config = {\n",
    "    \"configurable\": {\n",
    "        \"thread_id\": thread_id,\n",
    "    }\n",
    "}"
   ]
  },
  {
   "cell_type": "code",
   "execution_count": 68,
   "id": "ff6eb687",
   "metadata": {},
   "outputs": [],
   "source": [
    "events = part_1_graph.stream(\n",
    "        {\"messages\": (\"user\", \"i have a cough \")}, config, stream_mode=\"values\"\n",
    "    )"
   ]
  },
  {
   "cell_type": "code",
   "execution_count": 69,
   "id": "cae4989b",
   "metadata": {},
   "outputs": [
    {
     "name": "stdout",
     "output_type": "stream",
     "text": [
      "================================\u001b[1m Human Message \u001b[0m=================================\n",
      "\n",
      "i have a cough \n",
      "==================================\u001b[1m Ai Message \u001b[0m==================================\n",
      "Tool Calls:\n",
      "  retriever3 (207bb66b-5bb0-48cc-b3f4-8e4f82f58750)\n",
      " Call ID: 207bb66b-5bb0-48cc-b3f4-8e4f82f58750\n",
      "  Args:\n",
      "    query: cough\n",
      "---RETRIEVER 3---\n",
      "<Response [200]>\n",
      "[{'inputs': {'messages': [{'role': 'system', 'content': 'You are a medical assistant trained to diagnose diseases based on provided symptoms. \\n          Your task is to predict the most likely disease given a list of symptoms  and some additional information about disease. \\n         \\n          Input:\\n          - Symptoms/additional information:  cough\\n          \\n          Output:\\n          - Predicted Disease: [Name of disease]'}]}, 'response': {'response': 'Based on the symptom \"cough\", I predict the most likely disease to be:\\n\\n**Pneumonia**\\n\\nAdditional information: Pneumonia is a common respiratory infection that can cause a severe cough, fever, and difficulty breathing. It can be caused by a variety of pathogens, including bacteria, viruses, and fungi.', 'usage': {'prompt_tokens': 78, 'completion_tokens': 65, 'total_tokens': 143}}}]\n",
      "---GRADE DOCUMENTS---\n",
      "---CHECK RELEVANCE---\n",
      "=================================\u001b[1m Tool Message \u001b[0m=================================\n",
      "Name: retriever3\n",
      "\n",
      "{\"disease\": \"Based on the symptom \\\"cough\\\", I predict the most likely disease to be:\\n\\n**Pneumonia**\\n\\nAdditional information: Pneumonia is a common respiratory infection that can cause a severe cough, fever, and difficulty breathing. It can be caused by a variety of pathogens, including bacteria, viruses, and fungi.\", \"is_relavant\": true}\n",
      "==================================\u001b[1m Ai Message \u001b[0m==================================\n",
      "\n",
      "You have a cough, which could be related to pneumonia. However, it's essential to consult a doctor for an accurate diagnosis and proper treatment. They will evaluate your symptoms, perform any necessary tests, and provide guidance on the best course of action.\n",
      "\n",
      "In the meantime, here are some general tips to help manage your cough:\n",
      "\n",
      "* Stay hydrated by drinking plenty of fluids, such as water, tea, or soup.\n",
      "* Use a humidifier to add moisture to the air, which can help soothe an irritated throat.\n",
      "* Take over-the-counter medications like acetaminophen or ibuprofen to reduce fever and relieve congestion.\n",
      "* Rest and get plenty of sleep to help your body recover.\n",
      "\n",
      "Please note that if your cough is severe, persistent, or accompanied by other concerning symptoms such as difficulty breathing, chest pain, or severe headache, you should seek medical attention immediately.\n"
     ]
    }
   ],
   "source": [
    "_printed = set()\n",
    "\n",
    "for event in events:\n",
    "    _print_event(event, _printed)"
   ]
  },
  {
   "cell_type": "code",
   "execution_count": null,
   "id": "4d6e83f3",
   "metadata": {},
   "outputs": [
    {
     "name": "stdout",
     "output_type": "stream",
     "text": [
      "---RETRIEVER 2---\n"
     ]
    },
    {
     "data": {
      "text/plain": [
       "'Common Cold'"
      ]
     },
     "execution_count": 136,
     "metadata": {},
     "output_type": "execute_result"
    }
   ],
   "source": []
  }
 ],
 "metadata": {
  "kernelspec": {
   "display_name": "base",
   "language": "python",
   "name": "python3"
  },
  "language_info": {
   "codemirror_mode": {
    "name": "ipython",
    "version": 3
   },
   "file_extension": ".py",
   "mimetype": "text/x-python",
   "name": "python",
   "nbconvert_exporter": "python",
   "pygments_lexer": "ipython3",
   "version": "3.10.14"
  }
 },
 "nbformat": 4,
 "nbformat_minor": 5
}
